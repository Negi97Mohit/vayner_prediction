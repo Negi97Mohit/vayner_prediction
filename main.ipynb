{
 "cells": [
  {
   "cell_type": "code",
   "execution_count": 1,
   "metadata": {},
   "outputs": [],
   "source": [
    "import pandas as pd\n",
    "import numpy as np\n",
    "import plotly.express as px"
   ]
  },
  {
   "cell_type": "code",
   "execution_count": 2,
   "metadata": {},
   "outputs": [],
   "source": [
    "facebook=pd.read_excel('Analyst_Candidate_Dataset_.xlsx',sheet_name='Question 4- Combining Data')\n"
   ]
  },
  {
   "cell_type": "code",
   "execution_count": 23,
   "metadata": {},
   "outputs": [
    {
     "data": {
      "text/plain": [
       "Index(['AD ID', 'Placement ID', 'Purchases', 'Total Revenue', 'Date',\n",
       "       'Campaign', 'Audience', 'Excluded Audience', 'Audience Type',\n",
       "       'Creative', 'Post Type', 'Gender', 'Optimization Event', 'Media Spend',\n",
       "       'Impressions', 'Clicks', 'Likes', 'Comments', 'Shares', 'Video Views',\n",
       "       'Video Views to 25%', 'Video Views to 50%', 'Video Views to 75%',\n",
       "       'Video Views to 95%', 'Video Views to 100%', 'CPM      ',\n",
       "       'Cost=CPM * Impression /1000', 'CTR      ', 'CPC      ', 'CPC Cost'],\n",
       "      dtype='object')"
      ]
     },
     "execution_count": 23,
     "metadata": {},
     "output_type": "execute_result"
    }
   ],
   "source": [
    "facebook.columns"
   ]
  },
  {
   "cell_type": "code",
   "execution_count": 3,
   "metadata": {},
   "outputs": [],
   "source": [
    "groups_gender=facebook.groupby(['Date','Campaign','Gender']).sum()"
   ]
  },
  {
   "cell_type": "code",
   "execution_count": 15,
   "metadata": {},
   "outputs": [
    {
     "data": {
      "text/html": [
       "<div>\n",
       "<style scoped>\n",
       "    .dataframe tbody tr th:only-of-type {\n",
       "        vertical-align: middle;\n",
       "    }\n",
       "\n",
       "    .dataframe tbody tr th {\n",
       "        vertical-align: top;\n",
       "    }\n",
       "\n",
       "    .dataframe thead th {\n",
       "        text-align: right;\n",
       "    }\n",
       "</style>\n",
       "<table border=\"1\" class=\"dataframe\">\n",
       "  <thead>\n",
       "    <tr style=\"text-align: right;\">\n",
       "      <th></th>\n",
       "      <th>Date</th>\n",
       "      <th>Campaign</th>\n",
       "      <th>Gender</th>\n",
       "      <th>AD ID</th>\n",
       "      <th>Placement ID</th>\n",
       "      <th>Purchases</th>\n",
       "      <th>Total Revenue</th>\n",
       "      <th>Media Spend</th>\n",
       "      <th>Impressions</th>\n",
       "      <th>Clicks</th>\n",
       "      <th>...</th>\n",
       "      <th>Video Views to 25%</th>\n",
       "      <th>Video Views to 50%</th>\n",
       "      <th>Video Views to 75%</th>\n",
       "      <th>Video Views to 95%</th>\n",
       "      <th>Video Views to 100%</th>\n",
       "      <th>CPM</th>\n",
       "      <th>Cost=CPM * Impression /1000</th>\n",
       "      <th>CTR</th>\n",
       "      <th>CPC</th>\n",
       "      <th>CPC Cost</th>\n",
       "    </tr>\n",
       "  </thead>\n",
       "  <tbody>\n",
       "    <tr>\n",
       "      <th>0</th>\n",
       "      <td>2017-02-01</td>\n",
       "      <td>Evergreen</td>\n",
       "      <td>F</td>\n",
       "      <td>88045582839</td>\n",
       "      <td>176072502218</td>\n",
       "      <td>87</td>\n",
       "      <td>7936</td>\n",
       "      <td>2805.75</td>\n",
       "      <td>306091</td>\n",
       "      <td>3266</td>\n",
       "      <td>...</td>\n",
       "      <td>21447.0</td>\n",
       "      <td>10581.0</td>\n",
       "      <td>7354.0</td>\n",
       "      <td>5804.0</td>\n",
       "      <td>5202.0</td>\n",
       "      <td>818.70184</td>\n",
       "      <td>2805.800532</td>\n",
       "      <td>0.924376</td>\n",
       "      <td>83.648682</td>\n",
       "      <td>2805.75</td>\n",
       "    </tr>\n",
       "    <tr>\n",
       "      <th>1</th>\n",
       "      <td>2017-02-01</td>\n",
       "      <td>Evergreen</td>\n",
       "      <td>M</td>\n",
       "      <td>88049783557</td>\n",
       "      <td>176107222276</td>\n",
       "      <td>1</td>\n",
       "      <td>79</td>\n",
       "      <td>1104.90</td>\n",
       "      <td>202198</td>\n",
       "      <td>1183</td>\n",
       "      <td>...</td>\n",
       "      <td>14150.0</td>\n",
       "      <td>7191.0</td>\n",
       "      <td>5068.0</td>\n",
       "      <td>4079.0</td>\n",
       "      <td>3674.0</td>\n",
       "      <td>476.43520</td>\n",
       "      <td>1104.905768</td>\n",
       "      <td>0.532151</td>\n",
       "      <td>81.500818</td>\n",
       "      <td>1104.90</td>\n",
       "    </tr>\n",
       "    <tr>\n",
       "      <th>2</th>\n",
       "      <td>2017-02-01</td>\n",
       "      <td>Evergreen</td>\n",
       "      <td>M/F</td>\n",
       "      <td>88050195865</td>\n",
       "      <td>176073854592</td>\n",
       "      <td>61</td>\n",
       "      <td>7170</td>\n",
       "      <td>2242.11</td>\n",
       "      <td>276202</td>\n",
       "      <td>2924</td>\n",
       "      <td>...</td>\n",
       "      <td>19974.0</td>\n",
       "      <td>10114.0</td>\n",
       "      <td>7057.0</td>\n",
       "      <td>5764.0</td>\n",
       "      <td>5135.0</td>\n",
       "      <td>729.41280</td>\n",
       "      <td>2242.136527</td>\n",
       "      <td>0.931487</td>\n",
       "      <td>74.290367</td>\n",
       "      <td>2242.11</td>\n",
       "    </tr>\n",
       "    <tr>\n",
       "      <th>3</th>\n",
       "      <td>2017-02-02</td>\n",
       "      <td>Evergreen</td>\n",
       "      <td>F</td>\n",
       "      <td>88051143307</td>\n",
       "      <td>176075140188</td>\n",
       "      <td>88</td>\n",
       "      <td>9031</td>\n",
       "      <td>2766.15</td>\n",
       "      <td>303744</td>\n",
       "      <td>3293</td>\n",
       "      <td>...</td>\n",
       "      <td>21432.0</td>\n",
       "      <td>10992.0</td>\n",
       "      <td>7890.0</td>\n",
       "      <td>6352.0</td>\n",
       "      <td>5741.0</td>\n",
       "      <td>820.53048</td>\n",
       "      <td>2766.152905</td>\n",
       "      <td>0.935744</td>\n",
       "      <td>84.144100</td>\n",
       "      <td>2766.15</td>\n",
       "    </tr>\n",
       "    <tr>\n",
       "      <th>4</th>\n",
       "      <td>2017-02-02</td>\n",
       "      <td>Evergreen</td>\n",
       "      <td>M</td>\n",
       "      <td>88049625576</td>\n",
       "      <td>176110245560</td>\n",
       "      <td>2</td>\n",
       "      <td>296</td>\n",
       "      <td>1079.93</td>\n",
       "      <td>198645</td>\n",
       "      <td>1175</td>\n",
       "      <td>...</td>\n",
       "      <td>13707.0</td>\n",
       "      <td>6714.0</td>\n",
       "      <td>4792.0</td>\n",
       "      <td>3841.0</td>\n",
       "      <td>3445.0</td>\n",
       "      <td>476.36224</td>\n",
       "      <td>1079.918445</td>\n",
       "      <td>0.532574</td>\n",
       "      <td>80.840955</td>\n",
       "      <td>1079.93</td>\n",
       "    </tr>\n",
       "    <tr>\n",
       "      <th>...</th>\n",
       "      <td>...</td>\n",
       "      <td>...</td>\n",
       "      <td>...</td>\n",
       "      <td>...</td>\n",
       "      <td>...</td>\n",
       "      <td>...</td>\n",
       "      <td>...</td>\n",
       "      <td>...</td>\n",
       "      <td>...</td>\n",
       "      <td>...</td>\n",
       "      <td>...</td>\n",
       "      <td>...</td>\n",
       "      <td>...</td>\n",
       "      <td>...</td>\n",
       "      <td>...</td>\n",
       "      <td>...</td>\n",
       "      <td>...</td>\n",
       "      <td>...</td>\n",
       "      <td>...</td>\n",
       "      <td>...</td>\n",
       "      <td>...</td>\n",
       "    </tr>\n",
       "    <tr>\n",
       "      <th>70</th>\n",
       "      <td>2017-02-26</td>\n",
       "      <td>Evergreen</td>\n",
       "      <td>M/F</td>\n",
       "      <td>44024346503</td>\n",
       "      <td>88049985626</td>\n",
       "      <td>35</td>\n",
       "      <td>4743</td>\n",
       "      <td>1077.22</td>\n",
       "      <td>101893</td>\n",
       "      <td>906</td>\n",
       "      <td>...</td>\n",
       "      <td>6625.0</td>\n",
       "      <td>3440.0</td>\n",
       "      <td>2316.0</td>\n",
       "      <td>1901.0</td>\n",
       "      <td>1698.0</td>\n",
       "      <td>455.72760</td>\n",
       "      <td>1077.242328</td>\n",
       "      <td>0.397745</td>\n",
       "      <td>52.060269</td>\n",
       "      <td>1077.22</td>\n",
       "    </tr>\n",
       "    <tr>\n",
       "      <th>71</th>\n",
       "      <td>2017-02-27</td>\n",
       "      <td>Evergreen</td>\n",
       "      <td>F</td>\n",
       "      <td>44025780582</td>\n",
       "      <td>88050535972</td>\n",
       "      <td>50</td>\n",
       "      <td>6024</td>\n",
       "      <td>1330.97</td>\n",
       "      <td>117504</td>\n",
       "      <td>1037</td>\n",
       "      <td>...</td>\n",
       "      <td>8428.0</td>\n",
       "      <td>4356.0</td>\n",
       "      <td>2995.0</td>\n",
       "      <td>2390.0</td>\n",
       "      <td>2157.0</td>\n",
       "      <td>489.82956</td>\n",
       "      <td>1330.978650</td>\n",
       "      <td>0.400980</td>\n",
       "      <td>54.979960</td>\n",
       "      <td>1330.97</td>\n",
       "    </tr>\n",
       "    <tr>\n",
       "      <th>72</th>\n",
       "      <td>2017-02-27</td>\n",
       "      <td>Evergreen</td>\n",
       "      <td>M/F</td>\n",
       "      <td>44025339979</td>\n",
       "      <td>88051250776</td>\n",
       "      <td>36</td>\n",
       "      <td>3697</td>\n",
       "      <td>1133.39</td>\n",
       "      <td>113137</td>\n",
       "      <td>991</td>\n",
       "      <td>...</td>\n",
       "      <td>7796.0</td>\n",
       "      <td>3818.0</td>\n",
       "      <td>2759.0</td>\n",
       "      <td>2199.0</td>\n",
       "      <td>1998.0</td>\n",
       "      <td>440.46720</td>\n",
       "      <td>1133.405531</td>\n",
       "      <td>0.397531</td>\n",
       "      <td>49.178924</td>\n",
       "      <td>1133.39</td>\n",
       "    </tr>\n",
       "    <tr>\n",
       "      <th>73</th>\n",
       "      <td>2017-02-28</td>\n",
       "      <td>Evergreen</td>\n",
       "      <td>F</td>\n",
       "      <td>44024438738</td>\n",
       "      <td>88051933074</td>\n",
       "      <td>45</td>\n",
       "      <td>4947</td>\n",
       "      <td>1340.55</td>\n",
       "      <td>119861</td>\n",
       "      <td>1061</td>\n",
       "      <td>...</td>\n",
       "      <td>8125.0</td>\n",
       "      <td>4163.0</td>\n",
       "      <td>2989.0</td>\n",
       "      <td>2390.0</td>\n",
       "      <td>2142.0</td>\n",
       "      <td>484.41228</td>\n",
       "      <td>1340.578123</td>\n",
       "      <td>0.396771</td>\n",
       "      <td>55.050820</td>\n",
       "      <td>1340.55</td>\n",
       "    </tr>\n",
       "    <tr>\n",
       "      <th>74</th>\n",
       "      <td>2017-02-28</td>\n",
       "      <td>Evergreen</td>\n",
       "      <td>M/F</td>\n",
       "      <td>44022026387</td>\n",
       "      <td>88052538472</td>\n",
       "      <td>37</td>\n",
       "      <td>3951</td>\n",
       "      <td>1144.05</td>\n",
       "      <td>111275</td>\n",
       "      <td>987</td>\n",
       "      <td>...</td>\n",
       "      <td>8681.0</td>\n",
       "      <td>4343.0</td>\n",
       "      <td>3010.0</td>\n",
       "      <td>2379.0</td>\n",
       "      <td>2125.0</td>\n",
       "      <td>444.08760</td>\n",
       "      <td>1144.048188</td>\n",
       "      <td>0.401126</td>\n",
       "      <td>50.243230</td>\n",
       "      <td>1144.05</td>\n",
       "    </tr>\n",
       "  </tbody>\n",
       "</table>\n",
       "<p>75 rows × 24 columns</p>\n",
       "</div>"
      ],
      "text/plain": [
       "         Date   Campaign Gender        AD ID  Placement ID  Purchases  \\\n",
       "0  2017-02-01  Evergreen      F  88045582839  176072502218         87   \n",
       "1  2017-02-01  Evergreen      M  88049783557  176107222276          1   \n",
       "2  2017-02-01  Evergreen    M/F  88050195865  176073854592         61   \n",
       "3  2017-02-02  Evergreen      F  88051143307  176075140188         88   \n",
       "4  2017-02-02  Evergreen      M  88049625576  176110245560          2   \n",
       "..        ...        ...    ...          ...           ...        ...   \n",
       "70 2017-02-26  Evergreen    M/F  44024346503   88049985626         35   \n",
       "71 2017-02-27  Evergreen      F  44025780582   88050535972         50   \n",
       "72 2017-02-27  Evergreen    M/F  44025339979   88051250776         36   \n",
       "73 2017-02-28  Evergreen      F  44024438738   88051933074         45   \n",
       "74 2017-02-28  Evergreen    M/F  44022026387   88052538472         37   \n",
       "\n",
       "    Total Revenue  Media Spend  Impressions  Clicks  ...  Video Views to 25%  \\\n",
       "0            7936      2805.75       306091    3266  ...             21447.0   \n",
       "1              79      1104.90       202198    1183  ...             14150.0   \n",
       "2            7170      2242.11       276202    2924  ...             19974.0   \n",
       "3            9031      2766.15       303744    3293  ...             21432.0   \n",
       "4             296      1079.93       198645    1175  ...             13707.0   \n",
       "..            ...          ...          ...     ...  ...                 ...   \n",
       "70           4743      1077.22       101893     906  ...              6625.0   \n",
       "71           6024      1330.97       117504    1037  ...              8428.0   \n",
       "72           3697      1133.39       113137     991  ...              7796.0   \n",
       "73           4947      1340.55       119861    1061  ...              8125.0   \n",
       "74           3951      1144.05       111275     987  ...              8681.0   \n",
       "\n",
       "    Video Views to 50%  Video Views to 75%  Video Views to 95%  \\\n",
       "0              10581.0              7354.0              5804.0   \n",
       "1               7191.0              5068.0              4079.0   \n",
       "2              10114.0              7057.0              5764.0   \n",
       "3              10992.0              7890.0              6352.0   \n",
       "4               6714.0              4792.0              3841.0   \n",
       "..                 ...                 ...                 ...   \n",
       "70              3440.0              2316.0              1901.0   \n",
       "71              4356.0              2995.0              2390.0   \n",
       "72              3818.0              2759.0              2199.0   \n",
       "73              4163.0              2989.0              2390.0   \n",
       "74              4343.0              3010.0              2379.0   \n",
       "\n",
       "    Video Views to 100%  CPM        Cost=CPM * Impression /1000  CTR        \\\n",
       "0                5202.0  818.70184                  2805.800532   0.924376   \n",
       "1                3674.0  476.43520                  1104.905768   0.532151   \n",
       "2                5135.0  729.41280                  2242.136527   0.931487   \n",
       "3                5741.0  820.53048                  2766.152905   0.935744   \n",
       "4                3445.0  476.36224                  1079.918445   0.532574   \n",
       "..                  ...        ...                          ...        ...   \n",
       "70               1698.0  455.72760                  1077.242328   0.397745   \n",
       "71               2157.0  489.82956                  1330.978650   0.400980   \n",
       "72               1998.0  440.46720                  1133.405531   0.397531   \n",
       "73               2142.0  484.41228                  1340.578123   0.396771   \n",
       "74               2125.0  444.08760                  1144.048188   0.401126   \n",
       "\n",
       "    CPC        CPC Cost  \n",
       "0   83.648682   2805.75  \n",
       "1   81.500818   1104.90  \n",
       "2   74.290367   2242.11  \n",
       "3   84.144100   2766.15  \n",
       "4   80.840955   1079.93  \n",
       "..        ...       ...  \n",
       "70  52.060269   1077.22  \n",
       "71  54.979960   1330.97  \n",
       "72  49.178924   1133.39  \n",
       "73  55.050820   1340.55  \n",
       "74  50.243230   1144.05  \n",
       "\n",
       "[75 rows x 24 columns]"
      ]
     },
     "execution_count": 15,
     "metadata": {},
     "output_type": "execute_result"
    }
   ],
   "source": [
    "groups_gender"
   ]
  },
  {
   "cell_type": "code",
   "execution_count": 10,
   "metadata": {},
   "outputs": [],
   "source": [
    "groups_gender.reset_index(inplace=True)"
   ]
  },
  {
   "cell_type": "code",
   "execution_count": 11,
   "metadata": {},
   "outputs": [
    {
     "data": {
      "text/plain": [
       "Index(['Date', 'Campaign', 'Gender', 'AD ID', 'Placement ID', 'Purchases',\n",
       "       'Total Revenue', 'Media Spend', 'Impressions', 'Clicks', 'Likes',\n",
       "       'Comments', 'Shares', 'Video Views', 'Video Views to 25%',\n",
       "       'Video Views to 50%', 'Video Views to 75%', 'Video Views to 95%',\n",
       "       'Video Views to 100%', 'CPM      ', 'Cost=CPM * Impression /1000',\n",
       "       'CTR      ', 'CPC      ', 'CPC Cost'],\n",
       "      dtype='object')"
      ]
     },
     "execution_count": 11,
     "metadata": {},
     "output_type": "execute_result"
    }
   ],
   "source": [
    "groups_gender.columns"
   ]
  },
  {
   "cell_type": "code",
   "execution_count": 19,
   "metadata": {},
   "outputs": [
    {
     "name": "stdout",
     "output_type": "stream",
     "text": [
      "<class 'pandas.core.frame.DataFrame'>\n",
      "RangeIndex: 75 entries, 0 to 74\n",
      "Data columns (total 24 columns):\n",
      " #   Column                       Non-Null Count  Dtype         \n",
      "---  ------                       --------------  -----         \n",
      " 0   Date                         75 non-null     datetime64[ns]\n",
      " 1   Campaign                     75 non-null     object        \n",
      " 2   Gender                       75 non-null     object        \n",
      " 3   AD ID                        75 non-null     int64         \n",
      " 4   Placement ID                 75 non-null     int64         \n",
      " 5   Purchases                    75 non-null     int64         \n",
      " 6   Total Revenue                75 non-null     int64         \n",
      " 7   Media Spend                  75 non-null     float64       \n",
      " 8   Impressions                  75 non-null     int64         \n",
      " 9   Clicks                       75 non-null     int64         \n",
      " 10  Likes                        75 non-null     int64         \n",
      " 11  Comments                     75 non-null     int64         \n",
      " 12  Shares                       75 non-null     int64         \n",
      " 13  Video Views                  75 non-null     float64       \n",
      " 14  Video Views to 25%           75 non-null     float64       \n",
      " 15  Video Views to 50%           75 non-null     float64       \n",
      " 16  Video Views to 75%           75 non-null     float64       \n",
      " 17  Video Views to 95%           75 non-null     float64       \n",
      " 18  Video Views to 100%          75 non-null     float64       \n",
      " 19  CPM                          75 non-null     float64       \n",
      " 20  Cost=CPM * Impression /1000  75 non-null     float64       \n",
      " 21  CTR                          75 non-null     float64       \n",
      " 22  CPC                          75 non-null     float64       \n",
      " 23  CPC Cost                     75 non-null     float64       \n",
      "dtypes: datetime64[ns](1), float64(12), int64(9), object(2)\n",
      "memory usage: 14.2+ KB\n"
     ]
    }
   ],
   "source": [
    "groups_gender.info()"
   ]
  },
  {
   "cell_type": "code",
   "execution_count": 20,
   "metadata": {},
   "outputs": [
    {
     "data": {
      "application/vnd.plotly.v1+json": {
       "config": {
        "plotlyServerURL": "https://plot.ly"
       },
       "data": [
        {
         "alignmentgroup": "True",
         "hovertemplate": "Campaign=%{x}<br>Total Revenue=%{y}<extra></extra>",
         "legendgroup": "",
         "marker": {
          "color": "#636efa",
          "pattern": {
           "shape": ""
          }
         },
         "name": "",
         "offsetgroup": "",
         "orientation": "v",
         "showlegend": false,
         "textposition": "auto",
         "type": "bar",
         "x": [
          "Evergreen",
          "Evergreen",
          "Evergreen",
          "Evergreen",
          "Evergreen",
          "Evergreen",
          "Evergreen",
          "Evergreen",
          "Evergreen",
          "Evergreen",
          "Evergreen",
          "Evergreen",
          "Evergreen",
          "Evergreen",
          "Evergreen",
          "Evergreen",
          "Evergreen",
          "Evergreen",
          "Evergreen",
          "Evergreen",
          "Evergreen",
          "Evergreen",
          "Evergreen",
          "Evergreen",
          "Evergreen",
          "Evergreen",
          "Evergreen",
          "Evergreen",
          "Evergreen",
          "Valentine's Day Gift Offer",
          "Valentine's Day Gift Offer",
          "Evergreen",
          "Evergreen",
          "Valentine's Day Gift Offer",
          "Valentine's Day Gift Offer",
          "Evergreen",
          "Evergreen",
          "Valentine's Day Gift Offer",
          "Valentine's Day Gift Offer",
          "Evergreen",
          "Evergreen",
          "Valentine's Day Gift Offer",
          "Valentine's Day Gift Offer",
          "Evergreen",
          "Evergreen",
          "Evergreen",
          "Evergreen",
          "Free Shipping",
          "Free Shipping",
          "Evergreen",
          "Evergreen",
          "Evergreen",
          "Evergreen",
          "Evergreen",
          "Evergreen",
          "Evergreen",
          "Evergreen",
          "Evergreen",
          "Evergreen",
          "Evergreen",
          "Evergreen",
          "Evergreen",
          "Evergreen",
          "Free Shipping",
          "Free Shipping",
          "Evergreen",
          "Evergreen",
          "Evergreen",
          "Evergreen",
          "Evergreen",
          "Evergreen",
          "Evergreen",
          "Evergreen",
          "Evergreen",
          "Evergreen"
         ],
         "xaxis": "x",
         "y": [
          7936,
          79,
          7170,
          9031,
          296,
          7102,
          9138,
          267,
          7924,
          9204,
          199,
          6765,
          8734,
          178,
          6125,
          9845,
          164,
          8305,
          10141,
          292,
          6387,
          10164,
          6389,
          10947,
          3593,
          9444,
          6653,
          8659,
          6565,
          39882,
          25987,
          9313,
          6755,
          31178,
          26928,
          8376,
          6773,
          39236,
          23928,
          10669,
          6931,
          29055,
          22721,
          5388,
          4226,
          7057,
          4059,
          39565,
          31076,
          5931,
          3814,
          6000,
          3724,
          5063,
          3871,
          6211,
          4803,
          5195,
          4536,
          5797,
          3854,
          5821,
          4715,
          52934,
          42630,
          5770,
          4583,
          5392,
          4304,
          6090,
          4743,
          6024,
          3697,
          4947,
          3951
         ],
         "yaxis": "y"
        }
       ],
       "layout": {
        "barmode": "group",
        "height": 400,
        "legend": {
         "tracegroupgap": 0
        },
        "margin": {
         "t": 60
        },
        "template": {
         "data": {
          "bar": [
           {
            "error_x": {
             "color": "#2a3f5f"
            },
            "error_y": {
             "color": "#2a3f5f"
            },
            "marker": {
             "line": {
              "color": "#E5ECF6",
              "width": 0.5
             },
             "pattern": {
              "fillmode": "overlay",
              "size": 10,
              "solidity": 0.2
             }
            },
            "type": "bar"
           }
          ],
          "barpolar": [
           {
            "marker": {
             "line": {
              "color": "#E5ECF6",
              "width": 0.5
             },
             "pattern": {
              "fillmode": "overlay",
              "size": 10,
              "solidity": 0.2
             }
            },
            "type": "barpolar"
           }
          ],
          "carpet": [
           {
            "aaxis": {
             "endlinecolor": "#2a3f5f",
             "gridcolor": "white",
             "linecolor": "white",
             "minorgridcolor": "white",
             "startlinecolor": "#2a3f5f"
            },
            "baxis": {
             "endlinecolor": "#2a3f5f",
             "gridcolor": "white",
             "linecolor": "white",
             "minorgridcolor": "white",
             "startlinecolor": "#2a3f5f"
            },
            "type": "carpet"
           }
          ],
          "choropleth": [
           {
            "colorbar": {
             "outlinewidth": 0,
             "ticks": ""
            },
            "type": "choropleth"
           }
          ],
          "contour": [
           {
            "colorbar": {
             "outlinewidth": 0,
             "ticks": ""
            },
            "colorscale": [
             [
              0,
              "#0d0887"
             ],
             [
              0.1111111111111111,
              "#46039f"
             ],
             [
              0.2222222222222222,
              "#7201a8"
             ],
             [
              0.3333333333333333,
              "#9c179e"
             ],
             [
              0.4444444444444444,
              "#bd3786"
             ],
             [
              0.5555555555555556,
              "#d8576b"
             ],
             [
              0.6666666666666666,
              "#ed7953"
             ],
             [
              0.7777777777777778,
              "#fb9f3a"
             ],
             [
              0.8888888888888888,
              "#fdca26"
             ],
             [
              1,
              "#f0f921"
             ]
            ],
            "type": "contour"
           }
          ],
          "contourcarpet": [
           {
            "colorbar": {
             "outlinewidth": 0,
             "ticks": ""
            },
            "type": "contourcarpet"
           }
          ],
          "heatmap": [
           {
            "colorbar": {
             "outlinewidth": 0,
             "ticks": ""
            },
            "colorscale": [
             [
              0,
              "#0d0887"
             ],
             [
              0.1111111111111111,
              "#46039f"
             ],
             [
              0.2222222222222222,
              "#7201a8"
             ],
             [
              0.3333333333333333,
              "#9c179e"
             ],
             [
              0.4444444444444444,
              "#bd3786"
             ],
             [
              0.5555555555555556,
              "#d8576b"
             ],
             [
              0.6666666666666666,
              "#ed7953"
             ],
             [
              0.7777777777777778,
              "#fb9f3a"
             ],
             [
              0.8888888888888888,
              "#fdca26"
             ],
             [
              1,
              "#f0f921"
             ]
            ],
            "type": "heatmap"
           }
          ],
          "heatmapgl": [
           {
            "colorbar": {
             "outlinewidth": 0,
             "ticks": ""
            },
            "colorscale": [
             [
              0,
              "#0d0887"
             ],
             [
              0.1111111111111111,
              "#46039f"
             ],
             [
              0.2222222222222222,
              "#7201a8"
             ],
             [
              0.3333333333333333,
              "#9c179e"
             ],
             [
              0.4444444444444444,
              "#bd3786"
             ],
             [
              0.5555555555555556,
              "#d8576b"
             ],
             [
              0.6666666666666666,
              "#ed7953"
             ],
             [
              0.7777777777777778,
              "#fb9f3a"
             ],
             [
              0.8888888888888888,
              "#fdca26"
             ],
             [
              1,
              "#f0f921"
             ]
            ],
            "type": "heatmapgl"
           }
          ],
          "histogram": [
           {
            "marker": {
             "pattern": {
              "fillmode": "overlay",
              "size": 10,
              "solidity": 0.2
             }
            },
            "type": "histogram"
           }
          ],
          "histogram2d": [
           {
            "colorbar": {
             "outlinewidth": 0,
             "ticks": ""
            },
            "colorscale": [
             [
              0,
              "#0d0887"
             ],
             [
              0.1111111111111111,
              "#46039f"
             ],
             [
              0.2222222222222222,
              "#7201a8"
             ],
             [
              0.3333333333333333,
              "#9c179e"
             ],
             [
              0.4444444444444444,
              "#bd3786"
             ],
             [
              0.5555555555555556,
              "#d8576b"
             ],
             [
              0.6666666666666666,
              "#ed7953"
             ],
             [
              0.7777777777777778,
              "#fb9f3a"
             ],
             [
              0.8888888888888888,
              "#fdca26"
             ],
             [
              1,
              "#f0f921"
             ]
            ],
            "type": "histogram2d"
           }
          ],
          "histogram2dcontour": [
           {
            "colorbar": {
             "outlinewidth": 0,
             "ticks": ""
            },
            "colorscale": [
             [
              0,
              "#0d0887"
             ],
             [
              0.1111111111111111,
              "#46039f"
             ],
             [
              0.2222222222222222,
              "#7201a8"
             ],
             [
              0.3333333333333333,
              "#9c179e"
             ],
             [
              0.4444444444444444,
              "#bd3786"
             ],
             [
              0.5555555555555556,
              "#d8576b"
             ],
             [
              0.6666666666666666,
              "#ed7953"
             ],
             [
              0.7777777777777778,
              "#fb9f3a"
             ],
             [
              0.8888888888888888,
              "#fdca26"
             ],
             [
              1,
              "#f0f921"
             ]
            ],
            "type": "histogram2dcontour"
           }
          ],
          "mesh3d": [
           {
            "colorbar": {
             "outlinewidth": 0,
             "ticks": ""
            },
            "type": "mesh3d"
           }
          ],
          "parcoords": [
           {
            "line": {
             "colorbar": {
              "outlinewidth": 0,
              "ticks": ""
             }
            },
            "type": "parcoords"
           }
          ],
          "pie": [
           {
            "automargin": true,
            "type": "pie"
           }
          ],
          "scatter": [
           {
            "fillpattern": {
             "fillmode": "overlay",
             "size": 10,
             "solidity": 0.2
            },
            "type": "scatter"
           }
          ],
          "scatter3d": [
           {
            "line": {
             "colorbar": {
              "outlinewidth": 0,
              "ticks": ""
             }
            },
            "marker": {
             "colorbar": {
              "outlinewidth": 0,
              "ticks": ""
             }
            },
            "type": "scatter3d"
           }
          ],
          "scattercarpet": [
           {
            "marker": {
             "colorbar": {
              "outlinewidth": 0,
              "ticks": ""
             }
            },
            "type": "scattercarpet"
           }
          ],
          "scattergeo": [
           {
            "marker": {
             "colorbar": {
              "outlinewidth": 0,
              "ticks": ""
             }
            },
            "type": "scattergeo"
           }
          ],
          "scattergl": [
           {
            "marker": {
             "colorbar": {
              "outlinewidth": 0,
              "ticks": ""
             }
            },
            "type": "scattergl"
           }
          ],
          "scattermapbox": [
           {
            "marker": {
             "colorbar": {
              "outlinewidth": 0,
              "ticks": ""
             }
            },
            "type": "scattermapbox"
           }
          ],
          "scatterpolar": [
           {
            "marker": {
             "colorbar": {
              "outlinewidth": 0,
              "ticks": ""
             }
            },
            "type": "scatterpolar"
           }
          ],
          "scatterpolargl": [
           {
            "marker": {
             "colorbar": {
              "outlinewidth": 0,
              "ticks": ""
             }
            },
            "type": "scatterpolargl"
           }
          ],
          "scatterternary": [
           {
            "marker": {
             "colorbar": {
              "outlinewidth": 0,
              "ticks": ""
             }
            },
            "type": "scatterternary"
           }
          ],
          "surface": [
           {
            "colorbar": {
             "outlinewidth": 0,
             "ticks": ""
            },
            "colorscale": [
             [
              0,
              "#0d0887"
             ],
             [
              0.1111111111111111,
              "#46039f"
             ],
             [
              0.2222222222222222,
              "#7201a8"
             ],
             [
              0.3333333333333333,
              "#9c179e"
             ],
             [
              0.4444444444444444,
              "#bd3786"
             ],
             [
              0.5555555555555556,
              "#d8576b"
             ],
             [
              0.6666666666666666,
              "#ed7953"
             ],
             [
              0.7777777777777778,
              "#fb9f3a"
             ],
             [
              0.8888888888888888,
              "#fdca26"
             ],
             [
              1,
              "#f0f921"
             ]
            ],
            "type": "surface"
           }
          ],
          "table": [
           {
            "cells": {
             "fill": {
              "color": "#EBF0F8"
             },
             "line": {
              "color": "white"
             }
            },
            "header": {
             "fill": {
              "color": "#C8D4E3"
             },
             "line": {
              "color": "white"
             }
            },
            "type": "table"
           }
          ]
         },
         "layout": {
          "annotationdefaults": {
           "arrowcolor": "#2a3f5f",
           "arrowhead": 0,
           "arrowwidth": 1
          },
          "autotypenumbers": "strict",
          "coloraxis": {
           "colorbar": {
            "outlinewidth": 0,
            "ticks": ""
           }
          },
          "colorscale": {
           "diverging": [
            [
             0,
             "#8e0152"
            ],
            [
             0.1,
             "#c51b7d"
            ],
            [
             0.2,
             "#de77ae"
            ],
            [
             0.3,
             "#f1b6da"
            ],
            [
             0.4,
             "#fde0ef"
            ],
            [
             0.5,
             "#f7f7f7"
            ],
            [
             0.6,
             "#e6f5d0"
            ],
            [
             0.7,
             "#b8e186"
            ],
            [
             0.8,
             "#7fbc41"
            ],
            [
             0.9,
             "#4d9221"
            ],
            [
             1,
             "#276419"
            ]
           ],
           "sequential": [
            [
             0,
             "#0d0887"
            ],
            [
             0.1111111111111111,
             "#46039f"
            ],
            [
             0.2222222222222222,
             "#7201a8"
            ],
            [
             0.3333333333333333,
             "#9c179e"
            ],
            [
             0.4444444444444444,
             "#bd3786"
            ],
            [
             0.5555555555555556,
             "#d8576b"
            ],
            [
             0.6666666666666666,
             "#ed7953"
            ],
            [
             0.7777777777777778,
             "#fb9f3a"
            ],
            [
             0.8888888888888888,
             "#fdca26"
            ],
            [
             1,
             "#f0f921"
            ]
           ],
           "sequentialminus": [
            [
             0,
             "#0d0887"
            ],
            [
             0.1111111111111111,
             "#46039f"
            ],
            [
             0.2222222222222222,
             "#7201a8"
            ],
            [
             0.3333333333333333,
             "#9c179e"
            ],
            [
             0.4444444444444444,
             "#bd3786"
            ],
            [
             0.5555555555555556,
             "#d8576b"
            ],
            [
             0.6666666666666666,
             "#ed7953"
            ],
            [
             0.7777777777777778,
             "#fb9f3a"
            ],
            [
             0.8888888888888888,
             "#fdca26"
            ],
            [
             1,
             "#f0f921"
            ]
           ]
          },
          "colorway": [
           "#636efa",
           "#EF553B",
           "#00cc96",
           "#ab63fa",
           "#FFA15A",
           "#19d3f3",
           "#FF6692",
           "#B6E880",
           "#FF97FF",
           "#FECB52"
          ],
          "font": {
           "color": "#2a3f5f"
          },
          "geo": {
           "bgcolor": "white",
           "lakecolor": "white",
           "landcolor": "#E5ECF6",
           "showlakes": true,
           "showland": true,
           "subunitcolor": "white"
          },
          "hoverlabel": {
           "align": "left"
          },
          "hovermode": "closest",
          "mapbox": {
           "style": "light"
          },
          "paper_bgcolor": "white",
          "plot_bgcolor": "#E5ECF6",
          "polar": {
           "angularaxis": {
            "gridcolor": "white",
            "linecolor": "white",
            "ticks": ""
           },
           "bgcolor": "#E5ECF6",
           "radialaxis": {
            "gridcolor": "white",
            "linecolor": "white",
            "ticks": ""
           }
          },
          "scene": {
           "xaxis": {
            "backgroundcolor": "#E5ECF6",
            "gridcolor": "white",
            "gridwidth": 2,
            "linecolor": "white",
            "showbackground": true,
            "ticks": "",
            "zerolinecolor": "white"
           },
           "yaxis": {
            "backgroundcolor": "#E5ECF6",
            "gridcolor": "white",
            "gridwidth": 2,
            "linecolor": "white",
            "showbackground": true,
            "ticks": "",
            "zerolinecolor": "white"
           },
           "zaxis": {
            "backgroundcolor": "#E5ECF6",
            "gridcolor": "white",
            "gridwidth": 2,
            "linecolor": "white",
            "showbackground": true,
            "ticks": "",
            "zerolinecolor": "white"
           }
          },
          "shapedefaults": {
           "line": {
            "color": "#2a3f5f"
           }
          },
          "ternary": {
           "aaxis": {
            "gridcolor": "white",
            "linecolor": "white",
            "ticks": ""
           },
           "baxis": {
            "gridcolor": "white",
            "linecolor": "white",
            "ticks": ""
           },
           "bgcolor": "#E5ECF6",
           "caxis": {
            "gridcolor": "white",
            "linecolor": "white",
            "ticks": ""
           }
          },
          "title": {
           "x": 0.05
          },
          "xaxis": {
           "automargin": true,
           "gridcolor": "white",
           "linecolor": "white",
           "ticks": "",
           "title": {
            "standoff": 15
           },
           "zerolinecolor": "white",
           "zerolinewidth": 2
          },
          "yaxis": {
           "automargin": true,
           "gridcolor": "white",
           "linecolor": "white",
           "ticks": "",
           "title": {
            "standoff": 15
           },
           "zerolinecolor": "white",
           "zerolinewidth": 2
          }
         }
        },
        "width": 600,
        "xaxis": {
         "anchor": "y",
         "domain": [
          0,
          1
         ],
         "title": {
          "text": "Campaign"
         }
        },
        "yaxis": {
         "anchor": "x",
         "domain": [
          0,
          1
         ],
         "title": {
          "text": "Total Revenue"
         }
        }
       }
      }
     },
     "metadata": {},
     "output_type": "display_data"
    }
   ],
   "source": [
    "fig=px.bar(groups_gender[['Campaign','Total Revenue','Media Spend']],x='Campaign',y='Total Revenue',barmode='group',height=400,width=600)\n",
    "fig.show()\n",
    "    "
   ]
  },
  {
   "cell_type": "code",
   "execution_count": 21,
   "metadata": {},
   "outputs": [
    {
     "data": {
      "application/vnd.plotly.v1+json": {
       "config": {
        "plotlyServerURL": "https://plot.ly"
       },
       "data": [
        {
         "alignmentgroup": "True",
         "hovertemplate": "Campaign=%{x}<br>Media Spend=%{y}<extra></extra>",
         "legendgroup": "",
         "marker": {
          "color": "#636efa",
          "pattern": {
           "shape": ""
          }
         },
         "name": "",
         "offsetgroup": "",
         "orientation": "v",
         "showlegend": false,
         "textposition": "auto",
         "type": "bar",
         "x": [
          "Evergreen",
          "Evergreen",
          "Evergreen",
          "Evergreen",
          "Evergreen",
          "Evergreen",
          "Evergreen",
          "Evergreen",
          "Evergreen",
          "Evergreen",
          "Evergreen",
          "Evergreen",
          "Evergreen",
          "Evergreen",
          "Evergreen",
          "Evergreen",
          "Evergreen",
          "Evergreen",
          "Evergreen",
          "Evergreen",
          "Evergreen",
          "Evergreen",
          "Evergreen",
          "Evergreen",
          "Evergreen",
          "Evergreen",
          "Evergreen",
          "Evergreen",
          "Evergreen",
          "Valentine's Day Gift Offer",
          "Valentine's Day Gift Offer",
          "Evergreen",
          "Evergreen",
          "Valentine's Day Gift Offer",
          "Valentine's Day Gift Offer",
          "Evergreen",
          "Evergreen",
          "Valentine's Day Gift Offer",
          "Valentine's Day Gift Offer",
          "Evergreen",
          "Evergreen",
          "Valentine's Day Gift Offer",
          "Valentine's Day Gift Offer",
          "Evergreen",
          "Evergreen",
          "Evergreen",
          "Evergreen",
          "Free Shipping",
          "Free Shipping",
          "Evergreen",
          "Evergreen",
          "Evergreen",
          "Evergreen",
          "Evergreen",
          "Evergreen",
          "Evergreen",
          "Evergreen",
          "Evergreen",
          "Evergreen",
          "Evergreen",
          "Evergreen",
          "Evergreen",
          "Evergreen",
          "Free Shipping",
          "Free Shipping",
          "Evergreen",
          "Evergreen",
          "Evergreen",
          "Evergreen",
          "Evergreen",
          "Evergreen",
          "Evergreen",
          "Evergreen",
          "Evergreen",
          "Evergreen"
         ],
         "xaxis": "x",
         "y": [
          2805.75,
          1104.9,
          2242.11,
          2766.15,
          1079.93,
          2223.78,
          2669.31,
          1161.65,
          2319.48,
          2723.38,
          1129.97,
          2256.93,
          2567.75,
          1116.39,
          2308.05,
          2747.43,
          1127.17,
          2358.42,
          2764.02,
          1172.43,
          2309.7400000000002,
          2743.05,
          2248.44,
          2867.82,
          2332.84,
          2709.46,
          2254.41,
          2770.58,
          2268.18,
          7441.26,
          5998.7,
          2800.95,
          2236.4,
          7142.77,
          6004.27,
          2768.73,
          2238.25,
          7128.3,
          6025.32,
          2846.9900000000002,
          2335.13,
          6809.65,
          5822.13,
          1325.59,
          1128.56,
          1409.76,
          1120.09,
          6414.99,
          4940.51,
          1322.85,
          1205.85,
          1372.51,
          1088,
          1377.64,
          1184.45,
          1359.28,
          1144.39,
          1319.07,
          1183.1399999999999,
          1356.52,
          1141.1200000000001,
          1330.8799999999999,
          1100.77,
          6374.8,
          5020.16,
          1409.12,
          1144.61,
          1325.51,
          1180.44,
          1311.71,
          1077.22,
          1330.97,
          1133.39,
          1340.55,
          1144.05
         ],
         "yaxis": "y"
        }
       ],
       "layout": {
        "barmode": "group",
        "height": 400,
        "legend": {
         "tracegroupgap": 0
        },
        "margin": {
         "t": 60
        },
        "template": {
         "data": {
          "bar": [
           {
            "error_x": {
             "color": "#2a3f5f"
            },
            "error_y": {
             "color": "#2a3f5f"
            },
            "marker": {
             "line": {
              "color": "#E5ECF6",
              "width": 0.5
             },
             "pattern": {
              "fillmode": "overlay",
              "size": 10,
              "solidity": 0.2
             }
            },
            "type": "bar"
           }
          ],
          "barpolar": [
           {
            "marker": {
             "line": {
              "color": "#E5ECF6",
              "width": 0.5
             },
             "pattern": {
              "fillmode": "overlay",
              "size": 10,
              "solidity": 0.2
             }
            },
            "type": "barpolar"
           }
          ],
          "carpet": [
           {
            "aaxis": {
             "endlinecolor": "#2a3f5f",
             "gridcolor": "white",
             "linecolor": "white",
             "minorgridcolor": "white",
             "startlinecolor": "#2a3f5f"
            },
            "baxis": {
             "endlinecolor": "#2a3f5f",
             "gridcolor": "white",
             "linecolor": "white",
             "minorgridcolor": "white",
             "startlinecolor": "#2a3f5f"
            },
            "type": "carpet"
           }
          ],
          "choropleth": [
           {
            "colorbar": {
             "outlinewidth": 0,
             "ticks": ""
            },
            "type": "choropleth"
           }
          ],
          "contour": [
           {
            "colorbar": {
             "outlinewidth": 0,
             "ticks": ""
            },
            "colorscale": [
             [
              0,
              "#0d0887"
             ],
             [
              0.1111111111111111,
              "#46039f"
             ],
             [
              0.2222222222222222,
              "#7201a8"
             ],
             [
              0.3333333333333333,
              "#9c179e"
             ],
             [
              0.4444444444444444,
              "#bd3786"
             ],
             [
              0.5555555555555556,
              "#d8576b"
             ],
             [
              0.6666666666666666,
              "#ed7953"
             ],
             [
              0.7777777777777778,
              "#fb9f3a"
             ],
             [
              0.8888888888888888,
              "#fdca26"
             ],
             [
              1,
              "#f0f921"
             ]
            ],
            "type": "contour"
           }
          ],
          "contourcarpet": [
           {
            "colorbar": {
             "outlinewidth": 0,
             "ticks": ""
            },
            "type": "contourcarpet"
           }
          ],
          "heatmap": [
           {
            "colorbar": {
             "outlinewidth": 0,
             "ticks": ""
            },
            "colorscale": [
             [
              0,
              "#0d0887"
             ],
             [
              0.1111111111111111,
              "#46039f"
             ],
             [
              0.2222222222222222,
              "#7201a8"
             ],
             [
              0.3333333333333333,
              "#9c179e"
             ],
             [
              0.4444444444444444,
              "#bd3786"
             ],
             [
              0.5555555555555556,
              "#d8576b"
             ],
             [
              0.6666666666666666,
              "#ed7953"
             ],
             [
              0.7777777777777778,
              "#fb9f3a"
             ],
             [
              0.8888888888888888,
              "#fdca26"
             ],
             [
              1,
              "#f0f921"
             ]
            ],
            "type": "heatmap"
           }
          ],
          "heatmapgl": [
           {
            "colorbar": {
             "outlinewidth": 0,
             "ticks": ""
            },
            "colorscale": [
             [
              0,
              "#0d0887"
             ],
             [
              0.1111111111111111,
              "#46039f"
             ],
             [
              0.2222222222222222,
              "#7201a8"
             ],
             [
              0.3333333333333333,
              "#9c179e"
             ],
             [
              0.4444444444444444,
              "#bd3786"
             ],
             [
              0.5555555555555556,
              "#d8576b"
             ],
             [
              0.6666666666666666,
              "#ed7953"
             ],
             [
              0.7777777777777778,
              "#fb9f3a"
             ],
             [
              0.8888888888888888,
              "#fdca26"
             ],
             [
              1,
              "#f0f921"
             ]
            ],
            "type": "heatmapgl"
           }
          ],
          "histogram": [
           {
            "marker": {
             "pattern": {
              "fillmode": "overlay",
              "size": 10,
              "solidity": 0.2
             }
            },
            "type": "histogram"
           }
          ],
          "histogram2d": [
           {
            "colorbar": {
             "outlinewidth": 0,
             "ticks": ""
            },
            "colorscale": [
             [
              0,
              "#0d0887"
             ],
             [
              0.1111111111111111,
              "#46039f"
             ],
             [
              0.2222222222222222,
              "#7201a8"
             ],
             [
              0.3333333333333333,
              "#9c179e"
             ],
             [
              0.4444444444444444,
              "#bd3786"
             ],
             [
              0.5555555555555556,
              "#d8576b"
             ],
             [
              0.6666666666666666,
              "#ed7953"
             ],
             [
              0.7777777777777778,
              "#fb9f3a"
             ],
             [
              0.8888888888888888,
              "#fdca26"
             ],
             [
              1,
              "#f0f921"
             ]
            ],
            "type": "histogram2d"
           }
          ],
          "histogram2dcontour": [
           {
            "colorbar": {
             "outlinewidth": 0,
             "ticks": ""
            },
            "colorscale": [
             [
              0,
              "#0d0887"
             ],
             [
              0.1111111111111111,
              "#46039f"
             ],
             [
              0.2222222222222222,
              "#7201a8"
             ],
             [
              0.3333333333333333,
              "#9c179e"
             ],
             [
              0.4444444444444444,
              "#bd3786"
             ],
             [
              0.5555555555555556,
              "#d8576b"
             ],
             [
              0.6666666666666666,
              "#ed7953"
             ],
             [
              0.7777777777777778,
              "#fb9f3a"
             ],
             [
              0.8888888888888888,
              "#fdca26"
             ],
             [
              1,
              "#f0f921"
             ]
            ],
            "type": "histogram2dcontour"
           }
          ],
          "mesh3d": [
           {
            "colorbar": {
             "outlinewidth": 0,
             "ticks": ""
            },
            "type": "mesh3d"
           }
          ],
          "parcoords": [
           {
            "line": {
             "colorbar": {
              "outlinewidth": 0,
              "ticks": ""
             }
            },
            "type": "parcoords"
           }
          ],
          "pie": [
           {
            "automargin": true,
            "type": "pie"
           }
          ],
          "scatter": [
           {
            "fillpattern": {
             "fillmode": "overlay",
             "size": 10,
             "solidity": 0.2
            },
            "type": "scatter"
           }
          ],
          "scatter3d": [
           {
            "line": {
             "colorbar": {
              "outlinewidth": 0,
              "ticks": ""
             }
            },
            "marker": {
             "colorbar": {
              "outlinewidth": 0,
              "ticks": ""
             }
            },
            "type": "scatter3d"
           }
          ],
          "scattercarpet": [
           {
            "marker": {
             "colorbar": {
              "outlinewidth": 0,
              "ticks": ""
             }
            },
            "type": "scattercarpet"
           }
          ],
          "scattergeo": [
           {
            "marker": {
             "colorbar": {
              "outlinewidth": 0,
              "ticks": ""
             }
            },
            "type": "scattergeo"
           }
          ],
          "scattergl": [
           {
            "marker": {
             "colorbar": {
              "outlinewidth": 0,
              "ticks": ""
             }
            },
            "type": "scattergl"
           }
          ],
          "scattermapbox": [
           {
            "marker": {
             "colorbar": {
              "outlinewidth": 0,
              "ticks": ""
             }
            },
            "type": "scattermapbox"
           }
          ],
          "scatterpolar": [
           {
            "marker": {
             "colorbar": {
              "outlinewidth": 0,
              "ticks": ""
             }
            },
            "type": "scatterpolar"
           }
          ],
          "scatterpolargl": [
           {
            "marker": {
             "colorbar": {
              "outlinewidth": 0,
              "ticks": ""
             }
            },
            "type": "scatterpolargl"
           }
          ],
          "scatterternary": [
           {
            "marker": {
             "colorbar": {
              "outlinewidth": 0,
              "ticks": ""
             }
            },
            "type": "scatterternary"
           }
          ],
          "surface": [
           {
            "colorbar": {
             "outlinewidth": 0,
             "ticks": ""
            },
            "colorscale": [
             [
              0,
              "#0d0887"
             ],
             [
              0.1111111111111111,
              "#46039f"
             ],
             [
              0.2222222222222222,
              "#7201a8"
             ],
             [
              0.3333333333333333,
              "#9c179e"
             ],
             [
              0.4444444444444444,
              "#bd3786"
             ],
             [
              0.5555555555555556,
              "#d8576b"
             ],
             [
              0.6666666666666666,
              "#ed7953"
             ],
             [
              0.7777777777777778,
              "#fb9f3a"
             ],
             [
              0.8888888888888888,
              "#fdca26"
             ],
             [
              1,
              "#f0f921"
             ]
            ],
            "type": "surface"
           }
          ],
          "table": [
           {
            "cells": {
             "fill": {
              "color": "#EBF0F8"
             },
             "line": {
              "color": "white"
             }
            },
            "header": {
             "fill": {
              "color": "#C8D4E3"
             },
             "line": {
              "color": "white"
             }
            },
            "type": "table"
           }
          ]
         },
         "layout": {
          "annotationdefaults": {
           "arrowcolor": "#2a3f5f",
           "arrowhead": 0,
           "arrowwidth": 1
          },
          "autotypenumbers": "strict",
          "coloraxis": {
           "colorbar": {
            "outlinewidth": 0,
            "ticks": ""
           }
          },
          "colorscale": {
           "diverging": [
            [
             0,
             "#8e0152"
            ],
            [
             0.1,
             "#c51b7d"
            ],
            [
             0.2,
             "#de77ae"
            ],
            [
             0.3,
             "#f1b6da"
            ],
            [
             0.4,
             "#fde0ef"
            ],
            [
             0.5,
             "#f7f7f7"
            ],
            [
             0.6,
             "#e6f5d0"
            ],
            [
             0.7,
             "#b8e186"
            ],
            [
             0.8,
             "#7fbc41"
            ],
            [
             0.9,
             "#4d9221"
            ],
            [
             1,
             "#276419"
            ]
           ],
           "sequential": [
            [
             0,
             "#0d0887"
            ],
            [
             0.1111111111111111,
             "#46039f"
            ],
            [
             0.2222222222222222,
             "#7201a8"
            ],
            [
             0.3333333333333333,
             "#9c179e"
            ],
            [
             0.4444444444444444,
             "#bd3786"
            ],
            [
             0.5555555555555556,
             "#d8576b"
            ],
            [
             0.6666666666666666,
             "#ed7953"
            ],
            [
             0.7777777777777778,
             "#fb9f3a"
            ],
            [
             0.8888888888888888,
             "#fdca26"
            ],
            [
             1,
             "#f0f921"
            ]
           ],
           "sequentialminus": [
            [
             0,
             "#0d0887"
            ],
            [
             0.1111111111111111,
             "#46039f"
            ],
            [
             0.2222222222222222,
             "#7201a8"
            ],
            [
             0.3333333333333333,
             "#9c179e"
            ],
            [
             0.4444444444444444,
             "#bd3786"
            ],
            [
             0.5555555555555556,
             "#d8576b"
            ],
            [
             0.6666666666666666,
             "#ed7953"
            ],
            [
             0.7777777777777778,
             "#fb9f3a"
            ],
            [
             0.8888888888888888,
             "#fdca26"
            ],
            [
             1,
             "#f0f921"
            ]
           ]
          },
          "colorway": [
           "#636efa",
           "#EF553B",
           "#00cc96",
           "#ab63fa",
           "#FFA15A",
           "#19d3f3",
           "#FF6692",
           "#B6E880",
           "#FF97FF",
           "#FECB52"
          ],
          "font": {
           "color": "#2a3f5f"
          },
          "geo": {
           "bgcolor": "white",
           "lakecolor": "white",
           "landcolor": "#E5ECF6",
           "showlakes": true,
           "showland": true,
           "subunitcolor": "white"
          },
          "hoverlabel": {
           "align": "left"
          },
          "hovermode": "closest",
          "mapbox": {
           "style": "light"
          },
          "paper_bgcolor": "white",
          "plot_bgcolor": "#E5ECF6",
          "polar": {
           "angularaxis": {
            "gridcolor": "white",
            "linecolor": "white",
            "ticks": ""
           },
           "bgcolor": "#E5ECF6",
           "radialaxis": {
            "gridcolor": "white",
            "linecolor": "white",
            "ticks": ""
           }
          },
          "scene": {
           "xaxis": {
            "backgroundcolor": "#E5ECF6",
            "gridcolor": "white",
            "gridwidth": 2,
            "linecolor": "white",
            "showbackground": true,
            "ticks": "",
            "zerolinecolor": "white"
           },
           "yaxis": {
            "backgroundcolor": "#E5ECF6",
            "gridcolor": "white",
            "gridwidth": 2,
            "linecolor": "white",
            "showbackground": true,
            "ticks": "",
            "zerolinecolor": "white"
           },
           "zaxis": {
            "backgroundcolor": "#E5ECF6",
            "gridcolor": "white",
            "gridwidth": 2,
            "linecolor": "white",
            "showbackground": true,
            "ticks": "",
            "zerolinecolor": "white"
           }
          },
          "shapedefaults": {
           "line": {
            "color": "#2a3f5f"
           }
          },
          "ternary": {
           "aaxis": {
            "gridcolor": "white",
            "linecolor": "white",
            "ticks": ""
           },
           "baxis": {
            "gridcolor": "white",
            "linecolor": "white",
            "ticks": ""
           },
           "bgcolor": "#E5ECF6",
           "caxis": {
            "gridcolor": "white",
            "linecolor": "white",
            "ticks": ""
           }
          },
          "title": {
           "x": 0.05
          },
          "xaxis": {
           "automargin": true,
           "gridcolor": "white",
           "linecolor": "white",
           "ticks": "",
           "title": {
            "standoff": 15
           },
           "zerolinecolor": "white",
           "zerolinewidth": 2
          },
          "yaxis": {
           "automargin": true,
           "gridcolor": "white",
           "linecolor": "white",
           "ticks": "",
           "title": {
            "standoff": 15
           },
           "zerolinecolor": "white",
           "zerolinewidth": 2
          }
         }
        },
        "width": 600,
        "xaxis": {
         "anchor": "y",
         "domain": [
          0,
          1
         ],
         "title": {
          "text": "Campaign"
         }
        },
        "yaxis": {
         "anchor": "x",
         "domain": [
          0,
          1
         ],
         "title": {
          "text": "Media Spend"
         }
        }
       }
      }
     },
     "metadata": {},
     "output_type": "display_data"
    }
   ],
   "source": [
    "fig=px.bar(groups_gender[['Campaign','Total Revenue','Media Spend']],x='Campaign',y='Media Spend',barmode='group',height=400,width=600)\n",
    "fig.show()\n",
    "    "
   ]
  },
  {
   "cell_type": "code",
   "execution_count": 25,
   "metadata": {},
   "outputs": [
    {
     "data": {
      "text/plain": [
       "array(['Evergreen', \"Valentine's Day Gift Offer\", 'Free Shipping'],\n",
       "      dtype=object)"
      ]
     },
     "execution_count": 25,
     "metadata": {},
     "output_type": "execute_result"
    }
   ],
   "source": [
    "groups_gender.Campaign.unique()"
   ]
  },
  {
   "cell_type": "code",
   "execution_count": 26,
   "metadata": {},
   "outputs": [
    {
     "data": {
      "text/html": [
       "\n",
       "        <iframe\n",
       "            width=\"100%\"\n",
       "            height=\"650\"\n",
       "            src=\"http://127.0.0.1:8050/\"\n",
       "            frameborder=\"0\"\n",
       "            allowfullscreen\n",
       "            \n",
       "        ></iframe>\n",
       "        "
      ],
      "text/plain": [
       "<IPython.lib.display.IFrame at 0x2565a7e6640>"
      ]
     },
     "metadata": {},
     "output_type": "display_data"
    }
   ],
   "source": [
    "from dash import Dash, dcc, html, Input, Output\n",
    "import plotly.express as px\n",
    "\n",
    "app = Dash(__name__)\n",
    "\n",
    "\n",
    "app.layout = html.Div([\n",
    "    html.H4('Restaurant tips by day of week'),\n",
    "    dcc.Dropdown(\n",
    "        id=\"dropdown\",\n",
    "        options=['Evergreen', \"Valentine's Day Gift Offer\", 'Free Shipping'],\n",
    "        value='Evergreen',\n",
    "        clearable=False,\n",
    "    ),\n",
    "    dcc.Graph(id=\"graph\"),\n",
    "])\n",
    "\n",
    "\n",
    "@app.callback(\n",
    "    Output(\"graph\", \"figure\"), \n",
    "    Input(\"dropdown\", \"value\"))\n",
    "def update_bar_chart(day):\n",
    "    df = px.data.tips() # replace with your own data source\n",
    "    mask = df[\"day\"] == day\n",
    "    fig = px.bar(df[mask], x=\"sex\", y=\"total_bill\", \n",
    "                 color=\"smoker\", barmode=\"group\")\n",
    "    return fig\n",
    "\n",
    "\n",
    "app.run_server(debug=True)"
   ]
  },
  {
   "cell_type": "code",
   "execution_count": null,
   "metadata": {},
   "outputs": [],
   "source": []
  }
 ],
 "metadata": {
  "kernelspec": {
   "display_name": "snowpark",
   "language": "python",
   "name": "python3"
  },
  "language_info": {
   "codemirror_mode": {
    "name": "ipython",
    "version": 3
   },
   "file_extension": ".py",
   "mimetype": "text/x-python",
   "name": "python",
   "nbconvert_exporter": "python",
   "pygments_lexer": "ipython3",
   "version": "3.8.16"
  },
  "orig_nbformat": 4
 },
 "nbformat": 4,
 "nbformat_minor": 2
}
